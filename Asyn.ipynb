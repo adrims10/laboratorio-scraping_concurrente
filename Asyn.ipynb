{
 "cells": [
  {
   "cell_type": "code",
   "execution_count": 64,
   "metadata": {},
   "outputs": [],
   "source": [
    "from bs4 import BeautifulSoup \n",
    "import requests \n",
    "import pandas as pd\n",
    "import numpy as np \n",
    "from time import sleep\n",
    "from selenium import webdriver \n",
    "from webdriver_manager.chrome import ChromeDriverManager  \n",
    "from selenium.webdriver.common.keys import Keys  \n",
    "from selenium.webdriver.support.ui import Select  \n",
    "from selenium.webdriver.support.ui import WebDriverWait\n",
    "from selenium.webdriver.support import expected_conditions as EC\n",
    "from selenium.common.exceptions import NoSuchElementException \n",
    "import random as ra\n",
    "import asyncio\n",
    "import aiohttp\n"
   ]
  },
  {
   "cell_type": "code",
   "execution_count": 56,
   "metadata": {},
   "outputs": [],
   "source": [
    "# Función para extraer el código de la estación\n",
    "def extraer_codigo_estacion():\n",
    "    driver = webdriver.Chrome(executable_path='/ruta/a/chromedriver')\n",
    "    url = \"https://www.wunderground.com/weather/es/alcorcon\"\n",
    "    driver.get(url)\n",
    "    driver.maximize_window()\n",
    "    \n",
    "    # Esperar a que el iframe de las cookies esté presente y cambiar al iframe\n",
    "    iframe_cookies = WebDriverWait(driver, 10).until(\n",
    "        EC.presence_of_element_located(('xpath', '//*[@id=\"sp_message_iframe_1165301\"]'))\n",
    "    )\n",
    "    driver.switch_to.frame(iframe_cookies)\n",
    "    \n",
    "    # Intentar rechazar las cookies\n",
    "    try:\n",
    "        driver.implicitly_wait(5)\n",
    "        driver.find_element('css selector', \"#notice > div.message-component.message-row.cta-buttons-container > div.message-component.message-column.cta-button-column.reject-column > button\").click()\n",
    "    except:\n",
    "        print(\"No encuentro el botón de cookies\")\n",
    "    \n",
    "    # Volver al contenido principal\n",
    "    driver.switch_to.default_content()\n",
    "    sleep(3)\n",
    "    \n",
    "    # Extraer el código de la estación desde la URL del enlace de la estación\n",
    "    datos = driver.find_element('css selector', \"#inner-content > div.region-content-top > lib-city-header > div:nth-child(1) > div > div > a.station-name\")\n",
    "    url = datos.get_attribute(\"href\")\n",
    "    url_temp = url.split(\"?\")\n",
    "    code_station = url_temp[0].rsplit('/', 1)[-1]\n",
    "    print(code_station)\n",
    "    driver.quit()\n",
    "       # Devolver el código de la estación\n",
    "    return code_station\n"
   ]
  },
  {
   "cell_type": "code",
   "execution_count": 58,
   "metadata": {},
   "outputs": [
    {
     "name": "stdout",
     "output_type": "stream",
     "text": [
      "['https://www.wunderground.com/dashboard/pws', 'IALCOR16']\n"
     ]
    }
   ],
   "source": [
    "print(code_station)"
   ]
  },
  {
   "cell_type": "code",
   "execution_count": 65,
   "metadata": {},
   "outputs": [],
   "source": [
    "\n",
    "# Función asíncrona para solicitar datos históricos\n",
    "async def fecha_historica_data(session, url):\n",
    "    async with session.get(url) as response:\n",
    "        return await response.text()\n",
    "\n",
    "#async def fetch_history_data(session, url): Esta función usa aiohttp para hacer una solicitud GET a una URL\n",
    "# y devuelve el contenido HTML."
   ]
  },
  {
   "cell_type": "code",
   "execution_count": 67,
   "metadata": {},
   "outputs": [
    {
     "data": {
      "text/plain": [
       "<function __main__.fecha_historica_data(session, url)>"
      ]
     },
     "execution_count": 67,
     "metadata": {},
     "output_type": "execute_result"
    }
   ],
   "source": [
    "fecha_historica_data"
   ]
  },
  {
   "cell_type": "code",
   "execution_count": 73,
   "metadata": {},
   "outputs": [],
   "source": [
    "\n",
    "# Función principal para extraer datos históricos\n",
    "async def extraer_datos_historicos(code_station):\n",
    "    url_wunder = f\"https://www.wunderground.com/history/daily/es/alcorcon/date/{code_station}\"\n",
    "    async with aiohttp.ClientSession() as session:\n",
    "        html = await fecha_historica_data(session, url_wunder)\n",
    "        soup = BeautifulSoup(html, 'html.parser')\n",
    "\n",
    "        # Extraer la tabla de datos de la página\n",
    "        tabla = soup.select_one(\"#main-page-content > div > div > div > lib-history > div.history-tabs > lib-history-table > div > div > div > table > tbody\")\n",
    "        print(tabla.text)\n",
    "\n",
    "        # Procesar los datos de la tabla\n",
    "        datos = tabla.text.split('\\n')\n",
    "        print(datos)\n",
    "        df = pd.DataFrame(datos)\n",
    "        print(df)\n",
    "#async def extraer_datos_historicos(code_station): Esta función principal usa fecha_history_data\n",
    "#para obtener los datos HTML de la página histórica y luego usa BeautifulSoup para analizar el HTML.\n",
    "\n",
    "async def main():\n",
    "    getattr\n",
    "\n",
    "\n",
    "#async def main(): Esta es la función principal que se encarga de coordinar las otras funciones. Primero llama a extraer_codigo_estacion() \n",
    "#para obtener el código de la estación y luego a extraer_datos_historicos(code_station) para obtener los datos históricos."
   ]
  },
  {
   "cell_type": "code",
   "execution_count": 74,
   "metadata": {},
   "outputs": [
    {
     "data": {
      "text/html": [
       "<div>\n",
       "<style scoped>\n",
       "    .dataframe tbody tr th:only-of-type {\n",
       "        vertical-align: middle;\n",
       "    }\n",
       "\n",
       "    .dataframe tbody tr th {\n",
       "        vertical-align: top;\n",
       "    }\n",
       "\n",
       "    .dataframe thead th {\n",
       "        text-align: right;\n",
       "    }\n",
       "</style>\n",
       "<table border=\"1\" class=\"dataframe\">\n",
       "  <thead>\n",
       "    <tr style=\"text-align: right;\">\n",
       "      <th></th>\n",
       "      <th>municipio</th>\n",
       "      <th>latitud</th>\n",
       "      <th>longitud</th>\n",
       "    </tr>\n",
       "  </thead>\n",
       "  <tbody>\n",
       "    <tr>\n",
       "      <th>0</th>\n",
       "      <td>acebeda-la</td>\n",
       "      <td>41.086958</td>\n",
       "      <td>-3.624399</td>\n",
       "    </tr>\n",
       "    <tr>\n",
       "      <th>1</th>\n",
       "      <td>ajalvir</td>\n",
       "      <td>40.534230</td>\n",
       "      <td>-3.480782</td>\n",
       "    </tr>\n",
       "    <tr>\n",
       "      <th>2</th>\n",
       "      <td>alameda-del-valle</td>\n",
       "      <td>40.917718</td>\n",
       "      <td>-3.843822</td>\n",
       "    </tr>\n",
       "    <tr>\n",
       "      <th>3</th>\n",
       "      <td>alamo-el</td>\n",
       "      <td>40.230730</td>\n",
       "      <td>-3.990589</td>\n",
       "    </tr>\n",
       "    <tr>\n",
       "      <th>4</th>\n",
       "      <td>alcala-de-henares</td>\n",
       "      <td>40.481840</td>\n",
       "      <td>-3.364497</td>\n",
       "    </tr>\n",
       "    <tr>\n",
       "      <th>...</th>\n",
       "      <td>...</td>\n",
       "      <td>...</td>\n",
       "      <td>...</td>\n",
       "    </tr>\n",
       "    <tr>\n",
       "      <th>174</th>\n",
       "      <td>villar-del-olmo</td>\n",
       "      <td>40.336447</td>\n",
       "      <td>-3.235562</td>\n",
       "    </tr>\n",
       "    <tr>\n",
       "      <th>175</th>\n",
       "      <td>villarejo-de-salvanes</td>\n",
       "      <td>40.168358</td>\n",
       "      <td>-3.273876</td>\n",
       "    </tr>\n",
       "    <tr>\n",
       "      <th>176</th>\n",
       "      <td>villaviciosa-de-odon</td>\n",
       "      <td>40.357379</td>\n",
       "      <td>-3.900233</td>\n",
       "    </tr>\n",
       "    <tr>\n",
       "      <th>177</th>\n",
       "      <td>villavieja-del-lozoya</td>\n",
       "      <td>41.006362</td>\n",
       "      <td>-3.671629</td>\n",
       "    </tr>\n",
       "    <tr>\n",
       "      <th>178</th>\n",
       "      <td>zarzalejo</td>\n",
       "      <td>40.539281</td>\n",
       "      <td>-4.162484</td>\n",
       "    </tr>\n",
       "  </tbody>\n",
       "</table>\n",
       "<p>179 rows × 3 columns</p>\n",
       "</div>"
      ],
      "text/plain": [
       "                 municipio    latitud  longitud\n",
       "0               acebeda-la  41.086958 -3.624399\n",
       "1                  ajalvir  40.534230 -3.480782\n",
       "2        alameda-del-valle  40.917718 -3.843822\n",
       "3                 alamo-el  40.230730 -3.990589\n",
       "4        alcala-de-henares  40.481840 -3.364497\n",
       "..                     ...        ...       ...\n",
       "174        villar-del-olmo  40.336447 -3.235562\n",
       "175  villarejo-de-salvanes  40.168358 -3.273876\n",
       "176   villaviciosa-de-odon  40.357379 -3.900233\n",
       "177  villavieja-del-lozoya  41.006362 -3.671629\n",
       "178              zarzalejo  40.539281 -4.162484\n",
       "\n",
       "[179 rows x 3 columns]"
      ]
     },
     "execution_count": 74,
     "metadata": {},
     "output_type": "execute_result"
    }
   ],
   "source": [
    "if __name__ == \"__main__\":\n",
    "    asyncio.run(main())                        # inciar la funcion main"
   ]
  }
 ],
 "metadata": {
  "kernelspec": {
   "display_name": "Python 3",
   "language": "python",
   "name": "python3"
  },
  "language_info": {
   "codemirror_mode": {
    "name": "ipython",
    "version": 3
   },
   "file_extension": ".py",
   "mimetype": "text/x-python",
   "name": "python",
   "nbconvert_exporter": "python",
   "pygments_lexer": "ipython3",
   "version": "3.12.6"
  }
 },
 "nbformat": 4,
 "nbformat_minor": 2
}
